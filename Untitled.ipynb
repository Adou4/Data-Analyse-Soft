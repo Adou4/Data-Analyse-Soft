{
 "cells": [
  {
   "cell_type": "code",
   "execution_count": null,
   "id": "58c13a17-464a-42e4-badf-db0e35b35d73",
   "metadata": {},
   "outputs": [],
   "source": [
    "import pandas as pd"
   ]
  },
  {
   "cell_type": "code",
   "execution_count": null,
   "id": "75eb7005-eebd-46fd-bdf1-b5144e7fa7c1",
   "metadata": {},
   "outputs": [],
   "source": [
    "import numpy as np"
   ]
  },
  {
   "cell_type": "code",
   "execution_count": null,
   "id": "0820b7dc-7a8e-48ee-8076-c5cfca136fa6",
   "metadata": {},
   "outputs": [],
   "source": [
    "import matploitlib.pyplot as plt"
   ]
  },
  {
   "cell_type": "code",
   "execution_count": 1,
   "id": "f35c896f-acb4-438a-9af6-72ae8c30de19",
   "metadata": {},
   "outputs": [
    {
     "ename": "NameError",
     "evalue": "name 'pd' is not defined",
     "output_type": "error",
     "traceback": [
      "\u001b[0;31m---------------------------------------------------------------------------\u001b[0m",
      "\u001b[0;31mNameError\u001b[0m                                 Traceback (most recent call last)",
      "Cell \u001b[0;32mIn[1], line 1\u001b[0m\n\u001b[0;32m----> 1\u001b[0m df \u001b[38;5;241m=\u001b[39m \u001b[43mpd\u001b[49m\u001b[38;5;241m.\u001b[39mread_csv(\u001b[38;5;124m'\u001b[39m\u001b[38;5;124mhttps://media.githubusercontent.com/media/datablist/sample-csv-files/main/files/organizations/organizations-1000.csv\u001b[39m\u001b[38;5;124m'\u001b[39m)\n",
      "\u001b[0;31mNameError\u001b[0m: name 'pd' is not defined"
     ]
    }
   ],
   "source": [
    "df = pd.read_csv('https://media.githubusercontent.com/media/datablist/sample-csv-files/main/files/organizations/organizations-1000.csv')"
   ]
  },
  {
   "cell_type": "code",
   "execution_count": 2,
   "id": "76772361-33f6-4106-a375-b89d5c2e6af1",
   "metadata": {},
   "outputs": [
    {
     "ename": "NameError",
     "evalue": "name 'df' is not defined",
     "output_type": "error",
     "traceback": [
      "\u001b[0;31m---------------------------------------------------------------------------\u001b[0m",
      "\u001b[0;31mNameError\u001b[0m                                 Traceback (most recent call last)",
      "Cell \u001b[0;32mIn[2], line 1\u001b[0m\n\u001b[0;32m----> 1\u001b[0m \u001b[38;5;28mprint\u001b[39m(\u001b[43mdf\u001b[49m\u001b[38;5;241m.\u001b[39mhead())\n",
      "\u001b[0;31mNameError\u001b[0m: name 'df' is not defined"
     ]
    }
   ],
   "source": [
    "print(df.head())"
   ]
  },
  {
   "cell_type": "code",
   "execution_count": 3,
   "id": "f559e533-fb18-4469-a673-9c7e27af84c2",
   "metadata": {},
   "outputs": [
    {
     "ename": "NameError",
     "evalue": "name 'df' is not defined",
     "output_type": "error",
     "traceback": [
      "\u001b[0;31m---------------------------------------------------------------------------\u001b[0m",
      "\u001b[0;31mNameError\u001b[0m                                 Traceback (most recent call last)",
      "Cell \u001b[0;32mIn[3], line 1\u001b[0m\n\u001b[0;32m----> 1\u001b[0m \u001b[38;5;28mprint\u001b[39m(\u001b[43mdf\u001b[49m\u001b[38;5;241m.\u001b[39minfo())\n",
      "\u001b[0;31mNameError\u001b[0m: name 'df' is not defined"
     ]
    }
   ],
   "source": [
    "print(df.info())"
   ]
  },
  {
   "cell_type": "code",
   "execution_count": null,
   "id": "e5bf0ab2-d94b-4119-bcde-a845dea6638e",
   "metadata": {},
   "outputs": [],
   "source": [
    "print(df.describe())"
   ]
  },
  {
   "cell_type": "code",
   "execution_count": null,
   "id": "eee8b51d-a96c-4713-ace8-dae696c242b5",
   "metadata": {},
   "outputs": [],
   "source": [
    "df = df.dropna()"
   ]
  },
  {
   "cell_type": "code",
   "execution_count": null,
   "id": "e96f2808-90f3-4f51-9867-a0d036cc19c2",
   "metadata": {},
   "outputs": [],
   "source": [
    "df = df.drop_duplicates()"
   ]
  },
  {
   "cell_type": "code",
   "execution_count": null,
   "id": "d827d03b-7a40-4a2f-8435-3bd6fffc3764",
   "metadata": {},
   "outputs": [],
   "source": [
    "moyenne = np.mean(df['colonne'])"
   ]
  },
  {
   "cell_type": "code",
   "execution_count": null,
   "id": "e3bbb449-506a-457a-b209-161d620d2df7",
   "metadata": {},
   "outputs": [],
   "source": [
    "mediane = np.median(df['colonne'])"
   ]
  },
  {
   "cell_type": "code",
   "execution_count": null,
   "id": "fb1084cf-cee3-4f3b-9d8d-c71435f86a2d",
   "metadata": {},
   "outputs": [],
   "source": [
    "plt.hist(df['colonne'])"
   ]
  },
  {
   "cell_type": "code",
   "execution_count": null,
   "id": "17c4275f-7e16-4a58-919f-2d8658703f6f",
   "metadata": {},
   "outputs": [],
   "source": [
    "plt.xlabel('Valeurs')"
   ]
  },
  {
   "cell_type": "code",
   "execution_count": null,
   "id": "0d2da4d1-6374-44b8-b320-781e637b0963",
   "metadata": {},
   "outputs": [],
   "source": [
    "plt.ylabel('Fréquence')"
   ]
  },
  {
   "cell_type": "code",
   "execution_count": null,
   "id": "9aa346d3-ce95-4ac2-85c8-d88598d7b68a",
   "metadata": {},
   "outputs": [],
   "source": [
    "plt.title('Histogramme des valeurs')"
   ]
  },
  {
   "cell_type": "code",
   "execution_count": null,
   "id": "badeabdc-d344-4e64-9fc0-60c63f9931ea",
   "metadata": {},
   "outputs": [],
   "source": [
    "plt.show()"
   ]
  },
  {
   "cell_type": "code",
   "execution_count": null,
   "id": "36090847-0d29-41ec-8925-ff372acdfeff",
   "metadata": {},
   "outputs": [],
   "source": []
  },
  {
   "cell_type": "code",
   "execution_count": null,
   "id": "c392940c-9f01-416d-ae17-addff495e7fe",
   "metadata": {},
   "outputs": [],
   "source": []
  }
 ],
 "metadata": {
  "kernelspec": {
   "display_name": "Python 3 (ipykernel)",
   "language": "python",
   "name": "python3"
  },
  "language_info": {
   "codemirror_mode": {
    "name": "ipython",
    "version": 3
   },
   "file_extension": ".py",
   "mimetype": "text/x-python",
   "name": "python",
   "nbconvert_exporter": "python",
   "pygments_lexer": "ipython3",
   "version": "3.11.4"
  }
 },
 "nbformat": 4,
 "nbformat_minor": 5
}
